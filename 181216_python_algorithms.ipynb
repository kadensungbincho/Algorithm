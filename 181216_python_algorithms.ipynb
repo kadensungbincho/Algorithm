{
 "cells": [
  {
   "cell_type": "markdown",
   "metadata": {},
   "source": [
    "# Sorts"
   ]
  },
  {
   "cell_type": "markdown",
   "metadata": {},
   "source": [
    "## Bubble sort"
   ]
  },
  {
   "cell_type": "code",
   "execution_count": 3,
   "metadata": {},
   "outputs": [],
   "source": [
    "def bubble_sort(collection):\n",
    "    length = len(collection)\n",
    "    for i in range(length - 1):\n",
    "        swapped = False\n",
    "        for j in range(length-1-i):\n",
    "            if collection[j] > collection[j+1]:\n",
    "                swapped = True\n",
    "                collection[j], collection[j+1] = collection[j+1], collection[j]\n",
    "                # print(collection)\n",
    "        if not swapped: break\n",
    "    return collection"
   ]
  },
  {
   "cell_type": "code",
   "execution_count": 4,
   "metadata": {},
   "outputs": [
    {
     "name": "stdout",
     "output_type": "stream",
     "text": [
      "[1, 3, 4, 3, 5, 2, 10, 11, 1, 6]\n",
      "[1, 3, 4, 3, 2, 5, 10, 11, 1, 6]\n",
      "[1, 3, 4, 3, 2, 5, 10, 1, 11, 6]\n",
      "[1, 3, 4, 3, 2, 5, 10, 1, 6, 11]\n",
      "[1, 3, 3, 4, 2, 5, 10, 1, 6, 11]\n",
      "[1, 3, 3, 2, 4, 5, 10, 1, 6, 11]\n",
      "[1, 3, 3, 2, 4, 5, 1, 10, 6, 11]\n",
      "[1, 3, 3, 2, 4, 5, 1, 6, 10, 11]\n",
      "[1, 3, 2, 3, 4, 5, 1, 6, 10, 11]\n",
      "[1, 3, 2, 3, 4, 1, 5, 6, 10, 11]\n",
      "[1, 2, 3, 3, 4, 1, 5, 6, 10, 11]\n",
      "[1, 2, 3, 3, 1, 4, 5, 6, 10, 11]\n",
      "[1, 2, 3, 1, 3, 4, 5, 6, 10, 11]\n",
      "[1, 2, 1, 3, 3, 4, 5, 6, 10, 11]\n",
      "[1, 1, 2, 3, 3, 4, 5, 6, 10, 11]\n"
     ]
    },
    {
     "data": {
      "text/plain": [
       "[1, 1, 2, 3, 3, 4, 5, 6, 10, 11]"
      ]
     },
     "execution_count": 4,
     "metadata": {},
     "output_type": "execute_result"
    }
   ],
   "source": [
    "bubble_sort([1, 3, 4, 5, 3, 2, 10, 11, 1, 6])"
   ]
  },
  {
   "cell_type": "markdown",
   "metadata": {},
   "source": [
    "## Insertion Sort, Bucket Sort"
   ]
  },
  {
   "cell_type": "code",
   "execution_count": 5,
   "metadata": {},
   "outputs": [],
   "source": [
    "def insertion_sort(collection):\n",
    "    for i in range(1, len(collection)):\n",
    "        while i > 0 and collection[i - 1] > collection[i]:\n",
    "            collection[i], collection[i - 1] = collection[i - 1], collection[i]\n",
    "            i -= 1\n",
    "    return collection"
   ]
  },
  {
   "cell_type": "code",
   "execution_count": 15,
   "metadata": {},
   "outputs": [],
   "source": [
    "import math\n",
    "\n",
    "def bucket_sort(lst, bucket_size=5):\n",
    "    if(len(lst) == 0):\n",
    "        print(\"You don't have any elements in array!\")\n",
    "        \n",
    "    min_val = lst[0]\n",
    "    max_val = lst[0]\n",
    "    \n",
    "    for i in range(len(lst)):\n",
    "        if lst[i] < min_val:\n",
    "            min_val = lst[i]\n",
    "        elif lst[i] > max_val:\n",
    "            max_val = lst[i]\n",
    "            \n",
    "    bucket_cnt = math.floor((max_val - min_val) / bucket_size) + 1\n",
    "    buckets = []\n",
    "    for i in range(bucket_cnt):\n",
    "        buckets.append([])\n",
    "        \n",
    "    for i in range(len(lst)):\n",
    "        buckets[math.floor((lst[i] - min_val) / bucket_size)].append(lst[i])\n",
    "        \n",
    "    sorted_array = []\n",
    "    for i in range(len(buckets)):\n",
    "        print(buckets[i])\n",
    "        insertion_sort(buckets[i])\n",
    "        for j in range(len(buckets[i])):\n",
    "            sorted_array.append(buckets[i][j])\n",
    "            \n",
    "    return sorted_array"
   ]
  },
  {
   "cell_type": "code",
   "execution_count": 16,
   "metadata": {},
   "outputs": [
    {
     "name": "stdout",
     "output_type": "stream",
     "text": [
      "[1, 0, -1, 1]\n",
      "[]\n",
      "[10, 11]\n",
      "[]\n",
      "[20, 22]\n",
      "[]\n",
      "[]\n",
      "[34]\n",
      "[39, 39]\n",
      "[]\n",
      "[]\n",
      "[]\n",
      "[]\n",
      "[]\n",
      "[]\n",
      "[]\n",
      "[]\n",
      "[]\n",
      "[]\n",
      "[]\n",
      "[100]\n"
     ]
    },
    {
     "data": {
      "text/plain": [
       "[-1, 0, 1, 1, 10, 11, 20, 22, 34, 39, 39, 100]"
      ]
     },
     "execution_count": 16,
     "metadata": {},
     "output_type": "execute_result"
    }
   ],
   "source": [
    "bucket_sort([10, 11, 20, 39, 100, 1, 0, -1, 39, 22, 34, 1])"
   ]
  },
  {
   "cell_type": "code",
   "execution_count": 17,
   "metadata": {},
   "outputs": [],
   "source": [
    "def cocktail_shaker_sort(unsorted):\n",
    "    for i in range(len(unsorted)-1, 0, -1):\n",
    "        swapped = False\n",
    "        \n",
    "        for j in range(i, 0, -1):\n",
    "            if unsorted[j] < unsorted[j-1]:\n",
    "                unsorted[j], unsorted[j-1] = unsorted[j-1], unsorted[j]\n",
    "                swapped = True\n",
    "                \n",
    "        for j in range(i):\n",
    "            if unsorted[j] > unsorted[j+1]:\n",
    "                unsorted[j], unsorted[j+1] = unsorted[j+1], unsorted[j]\n",
    "                swapped = True\n",
    "                \n",
    "        if not swapped:\n",
    "            return unsorted"
   ]
  },
  {
   "cell_type": "code",
   "execution_count": 18,
   "metadata": {},
   "outputs": [
    {
     "data": {
      "text/plain": [
       "[-1, 0, 1, 2, 3, 3, 3, 4]"
      ]
     },
     "execution_count": 18,
     "metadata": {},
     "output_type": "execute_result"
    }
   ],
   "source": [
    "cocktail_shaker_sort([3, 4, 3, 2, 1, 3, -1, 0])"
   ]
  },
  {
   "cell_type": "code",
   "execution_count": null,
   "metadata": {},
   "outputs": [],
   "source": []
  }
 ],
 "metadata": {
  "kernelspec": {
   "display_name": "Python 3",
   "language": "python",
   "name": "python3"
  },
  "language_info": {
   "codemirror_mode": {
    "name": "ipython",
    "version": 3
   },
   "file_extension": ".py",
   "mimetype": "text/x-python",
   "name": "python",
   "nbconvert_exporter": "python",
   "pygments_lexer": "ipython3",
   "version": "3.7.1"
  }
 },
 "nbformat": 4,
 "nbformat_minor": 2
}
