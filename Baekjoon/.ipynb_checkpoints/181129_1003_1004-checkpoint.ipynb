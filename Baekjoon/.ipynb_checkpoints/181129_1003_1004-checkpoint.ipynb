{
 "cells": [
  {
   "cell_type": "code",
   "execution_count": null,
   "metadata": {},
   "outputs": [],
   "source": [
    "def fibonacci(n):\n",
    "    if (n == 0):\n",
    "        print(\"0\")\n",
    "        return 0\n",
    "    elif (n == 1):\n",
    "        print(\"1\")\n",
    "        return 1\n",
    "    else:\n",
    "        return fibonacci(n - 1) + fibonacci(n - 2)"
   ]
  },
  {
   "cell_type": "code",
   "execution_count": null,
   "metadata": {},
   "outputs": [],
   "source": [
    "fibonacci(5)"
   ]
  },
  {
   "cell_type": "code",
   "execution_count": null,
   "metadata": {},
   "outputs": [],
   "source": [
    "def fibonacci_count(n, zero, one):\n",
    "    if (n == 0):\n",
    "        zero += 1\n",
    "        return zero, one\n",
    "    elif (n == 1):\n",
    "        one += 1\n",
    "        return zero, one\n",
    "    else:\n",
    "        return tuple(map(sum, zip(fibonacci_count(n - 1, zero, one), fibonacci_count(n - 2, zero, one))))"
   ]
  },
  {
   "cell_type": "code",
   "execution_count": null,
   "metadata": {},
   "outputs": [],
   "source": [
    "tuple(map(sum, zip((1, 1), (1, 1))))"
   ]
  },
  {
   "cell_type": "code",
   "execution_count": null,
   "metadata": {},
   "outputs": [],
   "source": [
    "a, b = fibonacci_count(3, 0, 0)"
   ]
  },
  {
   "cell_type": "code",
   "execution_count": null,
   "metadata": {},
   "outputs": [],
   "source": [
    "print(a, b)"
   ]
  },
  {
   "cell_type": "code",
   "execution_count": 4,
   "metadata": {},
   "outputs": [
    {
     "name": "stdout",
     "output_type": "stream",
     "text": [
      "4\n",
      "10\n",
      "34 55\n",
      "20\n",
      "4181 6765\n",
      "30\n",
      "514229 832040\n",
      "40\n",
      "63245986 102334155\n"
     ]
    }
   ],
   "source": [
    "memo = {}\n",
    "\n",
    "def fibonacci_count(n):\n",
    "    if (n == 0):\n",
    "        return 1, 0\n",
    "    elif (n == 1):\n",
    "        return 0, 1\n",
    "    else:\n",
    "        if n - 1 not in memo:\n",
    "            memo[n-1] = fibonacci_count(n - 1)\n",
    "        if n -2 not in memo:\n",
    "            memo[n-2] = fibonacci_count(n - 2)\n",
    "        return tuple(map(sum, zip(memo[n-1], memo[n-2])))\n",
    "    \n",
    "trial = int(input())\n",
    "for i in range(trial):\n",
    "    n = int(input())\n",
    "    x, y = fibonacci_count(n)\n",
    "    print(x, y)"
   ]
  },
  {
   "cell_type": "code",
   "execution_count": 5,
   "metadata": {},
   "outputs": [
    {
     "data": {
      "text/plain": [
       "{1: (0, 1),\n",
       " 0: (1, 0),\n",
       " 2: (1, 1),\n",
       " 3: (1, 2),\n",
       " 4: (2, 3),\n",
       " 5: (3, 5),\n",
       " 6: (5, 8),\n",
       " 7: (8, 13),\n",
       " 8: (13, 21),\n",
       " 9: (21, 34),\n",
       " 10: (34, 55),\n",
       " 11: (55, 89),\n",
       " 12: (89, 144),\n",
       " 13: (144, 233),\n",
       " 14: (233, 377),\n",
       " 15: (377, 610),\n",
       " 16: (610, 987),\n",
       " 17: (987, 1597),\n",
       " 18: (1597, 2584),\n",
       " 19: (2584, 4181),\n",
       " 20: (4181, 6765),\n",
       " 21: (6765, 10946),\n",
       " 22: (10946, 17711),\n",
       " 23: (17711, 28657),\n",
       " 24: (28657, 46368),\n",
       " 25: (46368, 75025),\n",
       " 26: (75025, 121393),\n",
       " 27: (121393, 196418),\n",
       " 28: (196418, 317811),\n",
       " 29: (317811, 514229),\n",
       " 30: (514229, 832040),\n",
       " 31: (832040, 1346269),\n",
       " 32: (1346269, 2178309),\n",
       " 33: (2178309, 3524578),\n",
       " 34: (3524578, 5702887),\n",
       " 35: (5702887, 9227465),\n",
       " 36: (9227465, 14930352),\n",
       " 37: (14930352, 24157817),\n",
       " 38: (24157817, 39088169),\n",
       " 39: (39088169, 63245986)}"
      ]
     },
     "execution_count": 5,
     "metadata": {},
     "output_type": "execute_result"
    }
   ],
   "source": [
    "memo"
   ]
  },
  {
   "cell_type": "markdown",
   "metadata": {},
   "source": [
    "# Little Prince"
   ]
  },
  {
   "cell_type": "code",
   "execution_count": null,
   "metadata": {},
   "outputs": [],
   "source": [
    "def get_distance(x1, y1, x2, y2):\n",
    "    return ((x1 - x2) ** 2 + (y1 - y2) ** 2) ** .5\n",
    "\n",
    "\n",
    "def is_in_circle(x1, y1, cx, cy, r):\n",
    "    d = get_distance(x1, y1, cx, cy)\n",
    "    if d < r:\n",
    "        return True\n",
    "    return False\n",
    "\n",
    "trial = int(input())\n",
    "for _ in range(trial):\n",
    "    cnt = 0\n",
    "    x1, y1, x2, y2 = map(int, input().split())\n",
    "    _trial = int(input())\n",
    "    for _ in range(_trial):\n",
    "        cx, cy, r = map(int, input().split())\n",
    "        res1 = is_in_circle(x1, y1, cx, cy, r) \n",
    "        res2 = is_in_circle(x2, y2, cx, cy, r)\n",
    "        if ((not res1) & res2) or ((not res2) & res1):\n",
    "            cnt += 1\n",
    "        print(x1, y1, x2, y2, cx, cy, r, cnt)\n",
    "    print(cnt)"
   ]
  },
  {
   "cell_type": "code",
   "execution_count": 16,
   "metadata": {},
   "outputs": [
    {
     "data": {
      "text/plain": [
       "True"
      ]
     },
     "execution_count": 16,
     "metadata": {},
     "output_type": "execute_result"
    }
   ],
   "source": [
    "res = False\n",
    "(not res) | True"
   ]
  },
  {
   "cell_type": "code",
   "execution_count": 25,
   "metadata": {},
   "outputs": [
    {
     "data": {
      "text/plain": [
       "False"
      ]
     },
     "execution_count": 25,
     "metadata": {},
     "output_type": "execute_result"
    }
   ],
   "source": [
    "is_in_circle(-5, 1, 1, 1, 8)\n",
    "is_in_circle(12, 1, 1, 1, 8)"
   ]
  },
  {
   "cell_type": "code",
   "execution_count": 27,
   "metadata": {},
   "outputs": [
    {
     "data": {
      "text/plain": [
       "False"
      ]
     },
     "execution_count": 27,
     "metadata": {},
     "output_type": "execute_result"
    }
   ],
   "source": [
    "is_in_circle(12, 1, 12, 1, 1)"
   ]
  },
  {
   "cell_type": "code",
   "execution_count": 28,
   "metadata": {},
   "outputs": [
    {
     "data": {
      "text/plain": [
       "11.0"
      ]
     },
     "execution_count": 28,
     "metadata": {},
     "output_type": "execute_result"
    }
   ],
   "source": [
    "get_distance(12, 1, 12, 1)"
   ]
  },
  {
   "cell_type": "code",
   "execution_count": null,
   "metadata": {},
   "outputs": [],
   "source": []
  }
 ],
 "metadata": {
  "kernelspec": {
   "display_name": "Python 3",
   "language": "python",
   "name": "python3"
  },
  "language_info": {
   "codemirror_mode": {
    "name": "ipython",
    "version": 3
   },
   "file_extension": ".py",
   "mimetype": "text/x-python",
   "name": "python",
   "nbconvert_exporter": "python",
   "pygments_lexer": "ipython3",
   "version": "3.7.1"
  }
 },
 "nbformat": 4,
 "nbformat_minor": 2
}
