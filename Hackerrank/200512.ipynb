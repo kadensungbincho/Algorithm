{
 "cells": [
  {
   "cell_type": "code",
   "execution_count": 32,
   "metadata": {},
   "outputs": [],
   "source": [
    "def jumpingOnClouds(c):\n",
    "    cur = 0\n",
    "    jump = 0\n",
    "\n",
    "    while cur < len(c)-1:\n",
    "        if cur+2 < len(c):\n",
    "            if c[cur+2] != \"1\":\n",
    "                cur += 2\n",
    "            else:\n",
    "                cur += 1\n",
    "        else:\n",
    "            cur += 1\n",
    "        jump += 1\n",
    "    \n",
    "    return jump"
   ]
  },
  {
   "cell_type": "code",
   "execution_count": 33,
   "metadata": {},
   "outputs": [
    {
     "data": {
      "text/plain": [
       "4"
      ]
     },
     "execution_count": 33,
     "metadata": {},
     "output_type": "execute_result"
    }
   ],
   "source": [
    "jumpingOnClouds(list(\"0010010\"))"
   ]
  },
  {
   "cell_type": "code",
   "execution_count": 29,
   "metadata": {},
   "outputs": [
    {
     "data": {
      "text/plain": [
       "['0', '0', '1', '0', '0', '0', '0', '1', '0', '0']"
      ]
     },
     "execution_count": 29,
     "metadata": {},
     "output_type": "execute_result"
    }
   ],
   "source": [
    "list(\"0010000100\")"
   ]
  },
  {
   "cell_type": "code",
   "execution_count": null,
   "metadata": {},
   "outputs": [],
   "source": [
    "\"aaa\"\n",
    "\n"
   ]
  },
  {
   "cell_type": "code",
   "execution_count": 35,
   "metadata": {},
   "outputs": [
    {
     "data": {
      "text/plain": [
       "2"
      ]
     },
     "execution_count": 35,
     "metadata": {},
     "output_type": "execute_result"
    }
   ],
   "source": [
    "max(1, 2)"
   ]
  },
  {
   "cell_type": "code",
   "execution_count": 34,
   "metadata": {},
   "outputs": [],
   "source": [
    "def repeatedString(s, n):\n",
    "    cnt_s = 0\n",
    "    repeat = n // len(s)\n",
    "    remnant = n % len(s)\n",
    "\n",
    "    for c in s:\n",
    "        if c == 'a':\n",
    "            cnt_s += 1\n",
    "    \n",
    "    tot = cnt_s * repeat\n",
    "\n",
    "    for c in s[:remnant]:\n",
    "        if c == 'a':\n",
    "            tot += 1\n",
    "\n",
    "    return tot"
   ]
  },
  {
   "cell_type": "code",
   "execution_count": 36,
   "metadata": {},
   "outputs": [
    {
     "name": "stdout",
     "output_type": "stream",
     "text": [
      "5\n",
      "4\n",
      "3\n",
      "2\n",
      "1\n"
     ]
    }
   ],
   "source": [
    "for i in range(5, 0, -1):\n",
    "    print(i)"
   ]
  },
  {
   "cell_type": "code",
   "execution_count": 37,
   "metadata": {},
   "outputs": [],
   "source": [
    "def minimumBribes(q):\n",
    "    cnt = 0\n",
    "\n",
    "    for i in range(len(q)-2, -1, -1):\n",
    "        if i == len(q) - 2:\n",
    "            if q[i] > q[i+1]:\n",
    "                cnt += 1\n",
    "        elif i == len(q) - 3:\n",
    "            if q[i] > q[i+1]:\n",
    "                cnt += 1\n",
    "            if q[i] > q[i+2]:\n",
    "                cnt += 1\n",
    "        else:\n",
    "            if q[i] > q[i+1]:\n",
    "                cnt += 1\n",
    "            if q[i] > q[i+2]:\n",
    "                cnt += 1\n",
    "            if q[i] > q[i+3]:\n",
    "                return \"Too chaotic\"\n",
    "    \n",
    "    return cnt"
   ]
  },
  {
   "cell_type": "code",
   "execution_count": 38,
   "metadata": {},
   "outputs": [
    {
     "data": {
      "text/plain": [
       "3"
      ]
     },
     "execution_count": 38,
     "metadata": {},
     "output_type": "execute_result"
    }
   ],
   "source": [
    "minimumBribes([2, 1, 5, 3, 4])"
   ]
  },
  {
   "cell_type": "code",
   "execution_count": 39,
   "metadata": {},
   "outputs": [
    {
     "data": {
      "text/plain": [
       "'Too chaotic'"
      ]
     },
     "execution_count": 39,
     "metadata": {},
     "output_type": "execute_result"
    }
   ],
   "source": [
    "minimumBribes([2, 5, 1, 3, 4])"
   ]
  },
  {
   "cell_type": "code",
   "execution_count": 47,
   "metadata": {},
   "outputs": [],
   "source": [
    "def minimumBribes(q):\n",
    "    num = len(q)\n",
    "    cnt = 0\n",
    "    \n",
    "    while num > 0:\n",
    "        if num == 1:\n",
    "            pass\n",
    "        elif num == 2:\n",
    "            if num == q[0]:\n",
    "                q[0] = 1\n",
    "                q[1] = 2\n",
    "                cnt += 1\n",
    "        else:\n",
    "            if num == q[num-1]:\n",
    "                pass\n",
    "            elif num == q[num-2]:\n",
    "                tmp = q[num-1]\n",
    "                q[num-1] = num\n",
    "                q[num-2] = tmp\n",
    "                cnt += 1\n",
    "            elif num == q[num-3]:\n",
    "                tmp1 = q[num-2]\n",
    "                tmp2 = q[num-1]\n",
    "                q[num-1] = num\n",
    "                q[num-3] = tmp1\n",
    "                q[num-2] = tmp2\n",
    "                cnt += 2\n",
    "            else:\n",
    "                print(\"Too chaotic\")\n",
    "                return\n",
    "            \n",
    "        num -= 1\n",
    "        \n",
    "    print(cnt)\n",
    "        \n",
    "    \n",
    "    "
   ]
  },
  {
   "cell_type": "code",
   "execution_count": 48,
   "metadata": {},
   "outputs": [
    {
     "name": "stdout",
     "output_type": "stream",
     "text": [
      "7\n"
     ]
    }
   ],
   "source": [
    "case1 = [1, 2, 5, 3, 7, 8, 6, 4]\n",
    "minimumBribes(case1)"
   ]
  },
  {
   "cell_type": "code",
   "execution_count": 43,
   "metadata": {},
   "outputs": [],
   "source": [
    "a = [1, 2, 3]\n",
    "a.insert(2, 2)"
   ]
  },
  {
   "cell_type": "code",
   "execution_count": 44,
   "metadata": {},
   "outputs": [
    {
     "data": {
      "text/plain": [
       "[1, 2, 2, 3]"
      ]
     },
     "execution_count": 44,
     "metadata": {},
     "output_type": "execute_result"
    }
   ],
   "source": [
    "a"
   ]
  },
  {
   "cell_type": "code",
   "execution_count": 50,
   "metadata": {},
   "outputs": [],
   "source": [
    "a = [7, 1, 3, 2, 4, 5, 6]"
   ]
  },
  {
   "cell_type": "code",
   "execution_count": null,
   "metadata": {},
   "outputs": [],
   "source": [
    "[1, 7, 3, 2, 4, 5, 6]\n",
    "[1, 2, 3, 7, 4, 5, 6]\n",
    "[1, 2, 3, 4, 7, 5, 6]\n",
    "[1, 2, 3, 4, 5, 7, 6]"
   ]
  },
  {
   "cell_type": "code",
   "execution_count": null,
   "metadata": {},
   "outputs": [],
   "source": [
    "1 3 5 2 4 6 7\n",
    "1 2 5 3 4 6 7\n",
    "1 2 3 5 4 6 7"
   ]
  },
  {
   "cell_type": "code",
   "execution_count": 51,
   "metadata": {},
   "outputs": [],
   "source": [
    "def minimumSwaps(arr):\n",
    "    idx = 0\n",
    "    cnt = 0\n",
    "\n",
    "    while idx < len(arr):\n",
    "        val = arr[idx]\n",
    "\n",
    "        if val == idx + 1:\n",
    "            pass\n",
    "        elif arr[val-1] == idx + 1:\n",
    "            arr[val-1] = val\n",
    "            arr[idx] = idx + 1\n",
    "            cnt += 1\n",
    "        else:\n",
    "            for _idx in range(idx+1, len(arr)):\n",
    "                if arr[_idx] == idx + 1:\n",
    "                    arr[idx] = idx + 1\n",
    "                    arr[_idx] = val\n",
    "                    break;\n",
    "            cnt += 1\n",
    "        idx += 1\n",
    "    \n",
    "    return cnt"
   ]
  },
  {
   "cell_type": "code",
   "execution_count": null,
   "metadata": {},
   "outputs": [],
   "source": [
    "def minimumSwaps(arr):\n",
    "    idx = 0\n",
    "    cnt = 0\n",
    "\n",
    "    while idx < len(arr):\n",
    "        val = arr[idx]\n",
    "\n",
    "        if val == idx + 1:\n",
    "            pass\n",
    "        elif arr[val-1] == idx + 1:\n",
    "            arr[val-1] = val\n",
    "            arr[idx] = idx + 1\n",
    "            cnt += 1\n",
    "        else:\n",
    "            for _idx in range(idx+1, len(arr)):\n",
    "                if arr[_idx] == idx + 1:\n",
    "                    arr[idx] = idx + 1\n",
    "                    arr[_idx] = val\n",
    "                    break;\n",
    "            cnt += 1\n",
    "        idx += 1\n",
    "    \n",
    "    return cnt"
   ]
  },
  {
   "cell_type": "code",
   "execution_count": 56,
   "metadata": {},
   "outputs": [],
   "source": [
    "def minimumSwaps(arr):\n",
    "    idx = 0\n",
    "    cnt = 0\n",
    "\n",
    "    while idx < len(arr):\n",
    "        if arr[idx] - 1 != idx:\n",
    "            tmp = arr[arr[idx] -1]\n",
    "            arr[arr[idx] -1] = arr[idx]\n",
    "            arr[idx] = tmp\n",
    "            \n",
    "            cnt += 1\n",
    "        idx += 1\n",
    "    \n",
    "    return cnt"
   ]
  },
  {
   "cell_type": "code",
   "execution_count": 57,
   "metadata": {},
   "outputs": [
    {
     "data": {
      "text/plain": [
       "3"
      ]
     },
     "execution_count": 57,
     "metadata": {},
     "output_type": "execute_result"
    }
   ],
   "source": [
    "minimumSwaps([1, 3, 5, 2, 4, 6, 7])"
   ]
  },
  {
   "cell_type": "code",
   "execution_count": 59,
   "metadata": {},
   "outputs": [
    {
     "data": {
      "text/plain": [
       "2"
      ]
     },
     "execution_count": 59,
     "metadata": {},
     "output_type": "execute_result"
    }
   ],
   "source": [
    "minimumSwaps([4, 3, 1, 2])"
   ]
  },
  {
   "cell_type": "code",
   "execution_count": 76,
   "metadata": {},
   "outputs": [],
   "source": [
    "def minimumSwaps(arr):\n",
    "    temp = [0] * (len(arr) + 1)\n",
    "    for pos, val in enumerate(arr):\n",
    "        temp[val] = pos\n",
    "    \n",
    "    swaps = 0\n",
    "    print(temp)\n",
    "    for i in range(len(arr)):\n",
    "        if arr[i] != i+1:\n",
    "            swaps += 1\n",
    "            t = arr[i]\n",
    "            arr[i] = i+1\n",
    "            arr[temp[i+1]] = t\n",
    "            temp[t] = temp[i+1]\n",
    "    return swaps"
   ]
  },
  {
   "cell_type": "code",
   "execution_count": null,
   "metadata": {},
   "outputs": [],
   "source": [
    "0, 2, 3, 1, 2"
   ]
  },
  {
   "cell_type": "code",
   "execution_count": 77,
   "metadata": {},
   "outputs": [
    {
     "name": "stdout",
     "output_type": "stream",
     "text": [
      "[0, 2, 3, 1, 0]\n"
     ]
    },
    {
     "data": {
      "text/plain": [
       "3"
      ]
     },
     "execution_count": 77,
     "metadata": {},
     "output_type": "execute_result"
    }
   ],
   "source": [
    "minimumSwaps([4, 3, 1, 2])"
   ]
  },
  {
   "cell_type": "code",
   "execution_count": null,
   "metadata": {},
   "outputs": [],
   "source": [
    "2, 1, 3, 4"
   ]
  },
  {
   "cell_type": "code",
   "execution_count": null,
   "metadata": {},
   "outputs": [],
   "source": [
    "1 3 5 2 4 6 7\n",
    "1 2 5 3 4 6 7\n",
    "1 2 4 3 5 6 7\n",
    "1 2 3 4 5 6 7\n",
    "\n"
   ]
  },
  {
   "cell_type": "code",
   "execution_count": 80,
   "metadata": {},
   "outputs": [],
   "source": [
    "def minimumSwaps(arr):\n",
    "    tmp = [0] * (len(arr) + 1)\n",
    "    \n",
    "    for pos, val in enumerate(arr):\n",
    "        tmp[val] = pos\n",
    "        \n",
    "    swaps = 0\n",
    "    for i in range(len(arr)):\n",
    "        if arr[i] != i + 1:\n",
    "            t = arr[i]\n",
    "            arr[i] = i + 1\n",
    "            arr[tmp[i+1]] = t\n",
    "            tmp[t] = tmp[i+1]\n",
    "            \n",
    "            swaps += 1\n",
    "    return swaps\n",
    "        "
   ]
  },
  {
   "cell_type": "code",
   "execution_count": 81,
   "metadata": {},
   "outputs": [
    {
     "data": {
      "text/plain": [
       "3"
      ]
     },
     "execution_count": 81,
     "metadata": {},
     "output_type": "execute_result"
    }
   ],
   "source": [
    "minimumSwaps([4, 3, 1, 2])"
   ]
  },
  {
   "cell_type": "code",
   "execution_count": 82,
   "metadata": {},
   "outputs": [],
   "source": [
    "a = [ 1, 2, 3]"
   ]
  },
  {
   "cell_type": "code",
   "execution_count": 84,
   "metadata": {},
   "outputs": [
    {
     "data": {
      "text/plain": [
       "3"
      ]
     },
     "execution_count": 84,
     "metadata": {},
     "output_type": "execute_result"
    }
   ],
   "source": [
    "max([1, 2, 3])"
   ]
  },
  {
   "cell_type": "code",
   "execution_count": 85,
   "metadata": {},
   "outputs": [
    {
     "data": {
      "text/plain": [
       "[[1, 2, 3], [1, 2, 3]]"
      ]
     },
     "execution_count": 85,
     "metadata": {},
     "output_type": "execute_result"
    }
   ],
   "source": []
  },
  {
   "cell_type": "code",
   "execution_count": 94,
   "metadata": {},
   "outputs": [],
   "source": [
    "def arrayManipulation(n, queries):\n",
    "    filled = [0] * n\n",
    "\n",
    "    for q in queries:\n",
    "        for j in range(q[0]-1, q[1]):\n",
    "            filled[j] += q[2]\n",
    "    \n",
    "    return max(filled)"
   ]
  },
  {
   "cell_type": "code",
   "execution_count": 95,
   "metadata": {},
   "outputs": [
    {
     "data": {
      "text/plain": [
       "200"
      ]
     },
     "execution_count": 95,
     "metadata": {},
     "output_type": "execute_result"
    }
   ],
   "source": [
    "arrayManipulation(5, [[1, 2, 100], [2, 5, 100], [3, 4, 100]])"
   ]
  },
  {
   "cell_type": "code",
   "execution_count": 100,
   "metadata": {},
   "outputs": [],
   "source": [
    "import numpy as np\n",
    "tmp = np.zeros(10)"
   ]
  },
  {
   "cell_type": "code",
   "execution_count": 103,
   "metadata": {},
   "outputs": [
    {
     "data": {
      "text/plain": [
       "array([  0.,   0., 100., 100.,   0.,   0.,   0.,   0.,   0.,   0.])"
      ]
     },
     "execution_count": 103,
     "metadata": {},
     "output_type": "execute_result"
    }
   ],
   "source": [
    "tmp[2:4] = 100\n",
    "tmp"
   ]
  },
  {
   "cell_type": "code",
   "execution_count": 106,
   "metadata": {},
   "outputs": [],
   "source": [
    "import numpy as np\n",
    "\n",
    "\n",
    "def arrayManipulation(n, queries):\n",
    "    filled = np.zeros(n)\n",
    "\n",
    "    for q in queries:\n",
    "        tmp = np.zeros(n)\n",
    "        tmp[q[0]-1: q[1]] = q[2]\n",
    "        filled += tmp\n",
    "    \n",
    "    return filled.max()"
   ]
  },
  {
   "cell_type": "code",
   "execution_count": 107,
   "metadata": {},
   "outputs": [
    {
     "data": {
      "text/plain": [
       "200.0"
      ]
     },
     "execution_count": 107,
     "metadata": {},
     "output_type": "execute_result"
    }
   ],
   "source": [
    "arrayManipulation(5, [[1, 2, 100], [2, 5, 100], [3, 4, 100]])"
   ]
  },
  {
   "cell_type": "code",
   "execution_count": 108,
   "metadata": {},
   "outputs": [],
   "source": [
    "import array as arr"
   ]
  },
  {
   "cell_type": "code",
   "execution_count": 113,
   "metadata": {},
   "outputs": [],
   "source": [
    "a1 = arr.array('I', [1, 2, 3])\n",
    "a2 = arr.array('I', [1, 2, 3])"
   ]
  },
  {
   "cell_type": "code",
   "execution_count": 114,
   "metadata": {},
   "outputs": [
    {
     "data": {
      "text/plain": [
       "array('I', [1, 2, 3, 1, 2, 3])"
      ]
     },
     "execution_count": 114,
     "metadata": {},
     "output_type": "execute_result"
    }
   ],
   "source": []
  },
  {
   "cell_type": "code",
   "execution_count": 117,
   "metadata": {},
   "outputs": [
    {
     "name": "stdout",
     "output_type": "stream",
     "text": [
      "5 3\n",
      "1 2 100\n",
      "[100, 0, -100, 0, 0, 0]\n",
      "2 5 100\n",
      "[100, 100, -100, 0, 0, -100]\n",
      "3 4 100\n",
      "[100, 100, 0, 0, -100, -100]\n",
      "200\n"
     ]
    }
   ],
   "source": [
    "n, inputs = [int(n) for n in input().split(\" \")]\n",
    "_list = [0]*(n+1)\n",
    "for _ in range(inputs):\n",
    "    x, y, incr = [int(n) for n in input().split(\" \")]\n",
    "    _list[x-1] += incr\n",
    "    if((y)<=len(_list)): _list[y] -= incr;\n",
    "        \n",
    "    print(_list)\n",
    "max = x = 0\n",
    "for i in _list:\n",
    "   x=x+i;\n",
    "   if(max<x): max=x;\n",
    "print(max)"
   ]
  },
  {
   "cell_type": "code",
   "execution_count": null,
   "metadata": {},
   "outputs": [],
   "source": []
  }
 ],
 "metadata": {
  "kernelspec": {
   "display_name": "Python 3",
   "language": "python",
   "name": "python3"
  },
  "language_info": {
   "codemirror_mode": {
    "name": "ipython",
    "version": 3
   },
   "file_extension": ".py",
   "mimetype": "text/x-python",
   "name": "python",
   "nbconvert_exporter": "python",
   "pygments_lexer": "ipython3",
   "version": "3.7.2"
  }
 },
 "nbformat": 4,
 "nbformat_minor": 2
}
