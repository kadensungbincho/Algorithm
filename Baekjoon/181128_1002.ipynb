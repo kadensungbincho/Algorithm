{
 "cells": [
  {
   "cell_type": "code",
   "execution_count": 10,
   "metadata": {},
   "outputs": [],
   "source": [
    "i = \"\"\"\n",
    "3\n",
    "0 0 13 40 0 37\n",
    "0 0 3 0 7 4\n",
    "1 1 1 1 1 5\"\"\""
   ]
  },
  {
   "cell_type": "code",
   "execution_count": 13,
   "metadata": {},
   "outputs": [],
   "source": [
    "def parse(string):\n",
    "    lines = string.strip().split(\"\\n\")\n",
    "    for i in range(1, int(lines[0].strip())+1):\n",
    "        print(calculate_point(*map(int, lines[i].split())))\n",
    "        \n",
    "def calculate_point(x1, y1, r1, x2, y2, r2):\n",
    "    if r1 == r2:\n",
    "        return -1\n",
    "    d = ((x1 - x2) ** 2 + (y1 - y2) ** 2) ** 0.5\n",
    "    if d == 0:\n",
    "        return 0\n",
    "    if (r1 + r2) == d:\n",
    "        return 1\n",
    "    if abs(r1 - r2) == d:\n",
    "        return 1\n",
    "    if (r1 + r2) > d:\n",
    "        return 2\n",
    "    return 0"
   ]
  },
  {
   "cell_type": "code",
   "execution_count": 14,
   "metadata": {},
   "outputs": [
    {
     "name": "stdout",
     "output_type": "stream",
     "text": [
      "2\n",
      "1\n",
      "0\n"
     ]
    }
   ],
   "source": [
    "parse(i)"
   ]
  },
  {
   "cell_type": "code",
   "execution_count": 15,
   "metadata": {},
   "outputs": [],
   "source": [
    "a, b = map(int, [\"1\", \"2\"])"
   ]
  },
  {
   "cell_type": "code",
   "execution_count": 24,
   "metadata": {},
   "outputs": [
    {
     "name": "stdout",
     "output_type": "stream",
     "text": [
      "3\n",
      "1 1 1 1 1 5\n",
      "0\n",
      "0 0 13 40 0 37\n",
      "2\n",
      "0 0 3 0 7 4\n",
      "-1\n"
     ]
    }
   ],
   "source": [
    "trial = int(input())\n",
    "for i in range(trial):\n",
    "    x1, y1, r1, x2, y2, r2 = map(int, input().split())\n",
    "    d = ((x1 - x2) ** 2 + (y1 - y2) ** 2) ** 0.5\n",
    "    rsum = r1 + r2\n",
    "    if d == 0:\n",
    "        if r1 == r2:\n",
    "            print(-1)\n",
    "        else:\n",
    "            print(0)\n",
    "    else:\n",
    "        if d > rsum:\n",
    "            print(0)\n",
    "        elif d == rsum:\n",
    "            print(1)\n",
    "        else:\n",
    "            if abs(r1 - r2) == d:\n",
    "                print(1)\n",
    "            elif abs(r1 - r2) > d:\n",
    "                print(0)\n",
    "            else:\n",
    "                print(2)"
   ]
  },
  {
   "cell_type": "code",
   "execution_count": 21,
   "metadata": {},
   "outputs": [],
   "source": [
    "a, b, c, d, e, f = map(int, \"1 1 1 1 1 5\".strip().split())"
   ]
  },
  {
   "cell_type": "code",
   "execution_count": 22,
   "metadata": {},
   "outputs": [
    {
     "data": {
      "text/plain": [
       "1"
      ]
     },
     "execution_count": 22,
     "metadata": {},
     "output_type": "execute_result"
    }
   ],
   "source": [
    "e"
   ]
  },
  {
   "cell_type": "code",
   "execution_count": null,
   "metadata": {},
   "outputs": [],
   "source": []
  }
 ],
 "metadata": {
  "kernelspec": {
   "display_name": "Python 3",
   "language": "python",
   "name": "python3"
  },
  "language_info": {
   "codemirror_mode": {
    "name": "ipython",
    "version": 3
   },
   "file_extension": ".py",
   "mimetype": "text/x-python",
   "name": "python",
   "nbconvert_exporter": "python",
   "pygments_lexer": "ipython3",
   "version": "3.7.1"
  }
 },
 "nbformat": 4,
 "nbformat_minor": 2
}
