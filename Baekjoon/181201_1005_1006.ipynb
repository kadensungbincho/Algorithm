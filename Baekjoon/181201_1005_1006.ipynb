{
 "cells": [
  {
   "cell_type": "code",
   "execution_count": 10,
   "metadata": {},
   "outputs": [
    {
     "name": "stdout",
     "output_type": "stream",
     "text": [
      "2\n",
      "4 4\n",
      "10 1 100 10\n",
      "1 2\n",
      "1 3\n",
      "2 4\n",
      "3 4\n",
      "4\n",
      "120\n",
      "8 8\n",
      "10 20 1 5 8 7 1 43\n",
      "1 2\n",
      "1 3\n",
      "2 4\n",
      "2 5\n",
      "3 6\n",
      "5 7\n",
      "6 7\n",
      "7 8\n",
      "7\n",
      "39\n"
     ]
    }
   ],
   "source": [
    "trial = int(input())\n",
    "        \n",
    "for _ in range(trial):\n",
    "    buildings_no, rules_no = map(int, input().split())\n",
    "    time_table = {_k+1: _v for _k, _v in enumerate(map(int, input().split()))}\n",
    "    total_time_table = {1: [time_table[1]]}\n",
    "    for _ in range(rules_no):\n",
    "        sub, tar = map(int, input().split())\n",
    "        if tar not in total_time_table:\n",
    "            total_time_table[tar] = []\n",
    "        total_time_table[tar].append(max(total_time_table[sub])+time_table[tar])\n",
    "    print(max(total_time_table[int(input())]))"
   ]
  },
  {
   "cell_type": "code",
   "execution_count": 21,
   "metadata": {},
   "outputs": [
    {
     "data": {
      "text/plain": [
       "120"
      ]
     },
     "execution_count": 21,
     "metadata": {},
     "output_type": "execute_result"
    }
   ],
   "source": [
    "table = {}\n",
    "time_table = {1: 10, 2: 1, 3: 100, 4: 10}\n",
    "rules = {2: [1], 3: [1], 4: [2, 3]}\n",
    "\n",
    "def get_total_time_table(n):\n",
    "    if n not in rules:\n",
    "        return time_table[n]\n",
    "    table[n] = max([get_total_time_table(x) + time_table[n] for x in rules[n]])\n",
    "    return table[n]\n",
    "\n",
    "\n",
    "get_total_time_table(4)"
   ]
  },
  {
   "cell_type": "code",
   "execution_count": 6,
   "metadata": {},
   "outputs": [
    {
     "ename": "ValueError",
     "evalue": "invalid literal for int() with base 10: ''",
     "output_type": "error",
     "traceback": [
      "\u001b[0;31m---------------------------------------------------------------------------\u001b[0m",
      "\u001b[0;31mValueError\u001b[0m                                Traceback (most recent call last)",
      "\u001b[0;32m<ipython-input-6-04197419650f>\u001b[0m in \u001b[0;36m<module>\u001b[0;34m\u001b[0m\n\u001b[1;32m      1\u001b[0m \u001b[0;32mimport\u001b[0m \u001b[0msys\u001b[0m\u001b[0;34m\u001b[0m\u001b[0;34m\u001b[0m\u001b[0m\n\u001b[1;32m      2\u001b[0m \u001b[0;34m\u001b[0m\u001b[0m\n\u001b[0;32m----> 3\u001b[0;31m \u001b[0mtrial\u001b[0m \u001b[0;34m=\u001b[0m \u001b[0mint\u001b[0m\u001b[0;34m(\u001b[0m\u001b[0msys\u001b[0m\u001b[0;34m.\u001b[0m\u001b[0mstdin\u001b[0m\u001b[0;34m.\u001b[0m\u001b[0mreadline\u001b[0m\u001b[0;34m(\u001b[0m\u001b[0;34m)\u001b[0m\u001b[0;34m.\u001b[0m\u001b[0mrstrip\u001b[0m\u001b[0;34m(\u001b[0m\u001b[0;34m)\u001b[0m\u001b[0;34m)\u001b[0m\u001b[0;34m\u001b[0m\u001b[0;34m\u001b[0m\u001b[0m\n\u001b[0m\u001b[1;32m      4\u001b[0m \u001b[0;34m\u001b[0m\u001b[0m\n\u001b[1;32m      5\u001b[0m \u001b[0;32mdef\u001b[0m \u001b[0mget_total_time_table\u001b[0m\u001b[0;34m(\u001b[0m\u001b[0mn\u001b[0m\u001b[0;34m)\u001b[0m\u001b[0;34m:\u001b[0m\u001b[0;34m\u001b[0m\u001b[0;34m\u001b[0m\u001b[0m\n",
      "\u001b[0;31mValueError\u001b[0m: invalid literal for int() with base 10: ''"
     ]
    }
   ],
   "source": [
    "import sys\n",
    "sys.setrecursionlimit(10**6)\n",
    "trial = int(sys.stdin.readline().rstrip())\n",
    "\n",
    "def get_total_time_table(n):\n",
    "    if n not in rules:\n",
    "        return time_table[n]\n",
    "    if n not in table:\n",
    "        table[n] = max([get_total_time_table(x) for x in rules[n]]) + time_table[n]\n",
    "    return table[n]\n",
    "        \n",
    "for _ in range(trial):\n",
    "    _, rules_no = map(int, sys.stdin.readline().rstrip().split())\n",
    "    time_table = {_k+1: _v for _k, _v in enumerate(map(int, sys.stdin.readline().rstrip().split()))}\n",
    "    table = {}\n",
    "    rules = {}\n",
    "    for _ in range(rules_no):\n",
    "        sub, tar = map(int, sys.stdin.readline().rstrip().split())\n",
    "        if tar not in rules:\n",
    "            rules[tar] = []\n",
    "        rules[tar].append(sub)\n",
    "    print(get_total_time_table(int(sys.stdin.readline().rstrip())))  "
   ]
  },
  {
   "cell_type": "code",
   "execution_count": 25,
   "metadata": {},
   "outputs": [
    {
     "data": {
      "text/plain": [
       "{2: 30, 5: 38, 3: 11, 6: 18, 7: 39}"
      ]
     },
     "execution_count": 25,
     "metadata": {},
     "output_type": "execute_result"
    }
   ],
   "source": [
    "table"
   ]
  },
  {
   "cell_type": "code",
   "execution_count": 18,
   "metadata": {},
   "outputs": [
    {
     "data": {
      "text/plain": [
       "{1: 10, 2: 1, 3: 100, 4: 10}"
      ]
     },
     "execution_count": 18,
     "metadata": {},
     "output_type": "execute_result"
    }
   ],
   "source": [
    "time_table"
   ]
  },
  {
   "cell_type": "markdown",
   "metadata": {},
   "source": [
    "# 위상정렬 고려"
   ]
  },
  {
   "cell_type": "code",
   "execution_count": null,
   "metadata": {},
   "outputs": [],
   "source": [
    "trial = int(input())\n",
    "\n",
    "for _ in range(trial):\n",
    "    _, rules_no = map(int, input().split())\n",
    "    time_table = {_k+1: _v for _k, _v in enumerate(map(int, input().split()))}\n",
    "    \n",
    "    for _ in range(rules_no):\n",
    "        rules = []\n",
    "        rules.append(list(map(int, input().split())))\n",
    "    root_nodes = [x for x in time_table if x not in map(lambda x: x[1], rules)]\n",
    "    time_distance = {}\n",
    "    for x in root_nodes:\n",
    "        time_distance[x] = time_table[x]\n",
    "        \n",
    "    "
   ]
  },
  {
   "cell_type": "markdown",
   "metadata": {},
   "source": [
    "# 1006"
   ]
  },
  {
   "cell_type": "code",
   "execution_count": 39,
   "metadata": {},
   "outputs": [
    {
     "ename": "SyntaxError",
     "evalue": "invalid syntax (<ipython-input-39-6c749757c3c3>, line 15)",
     "output_type": "error",
     "traceback": [
      "\u001b[0;36m  File \u001b[0;32m\"<ipython-input-39-6c749757c3c3>\"\u001b[0;36m, line \u001b[0;32m15\u001b[0m\n\u001b[0;31m    def func(size, w, enemy_table)\u001b[0m\n\u001b[0m                                  ^\u001b[0m\n\u001b[0;31mSyntaxError\u001b[0m\u001b[0;31m:\u001b[0m invalid syntax\n"
     ]
    }
   ],
   "source": [
    "import sys\n",
    "from functools import reduce\n",
    "\n",
    "\n",
    "def get_pool(strategies):\n",
    "    if not strategies:\n",
    "        return set({})\n",
    "    return reduce(lambda x, y: x | y, map(lambda x: x[0], strategies))\n",
    "\n",
    "\n",
    "def get_strategies(size, w, enemy_table):\n",
    "    strategies = []\n",
    "    for i in range(1, size*2+1):\n",
    "        if i % size != 0:\n",
    "            strategies.append([set([i, i+1]), enemy_table[i]+enemy_table[i+1]])\n",
    "        else:\n",
    "            strategies.append([set([i, i-size+1]), enemy_table[i]+enemy_table[i-size+1]])\n",
    "        if i <= size:\n",
    "            strategies.append([set([i, i+size]), enemy_table[i]+enemy_table[i+size]])\n",
    "    total = [[x, y] for x, y in strategies if y <= w]\n",
    "    unique = []\n",
    "    for l in total:\n",
    "        except_total = [_l for _l in total if _l != l]\n",
    "        except_pool = get_pool(except_total)\n",
    "        if l[0] - except_pool == l[0]:\n",
    "            unique.append(l)\n",
    "    non_unique = [_l for _l in total if _l not in unique]\n",
    "    return unique, non_unique\n",
    "\n",
    "\n",
    "def get_results(*args, **kw):\n",
    "    non_uni_cnt = 0\n",
    "    def _func(queue, strategies):\n",
    "        if not strategies:\n",
    "            non_uni_cnt += len(queue)\n",
    "        if not (strategies[0][0] - queue):\n",
    "            non_uni_cnt += 1\n",
    "            queue -= strategies[0][0]\n",
    "            strategies = [_l for _l in strategies if not (_l[0] & strategies[0][0])]\n",
    "            return _func(queue, strategies)\n",
    "        strategies.pop(0)\n",
    "        return _func(queue, strategies)\n",
    "    _func(*args, **kw)\n",
    "    return non_uni_cnt\n",
    "        \n",
    "trial = int(sys.stdin.readline().rstrip())\n",
    "for _ in range(trial):\n",
    "    size, w = map(int, sys.stdin.readline().rstrip().split())\n",
    "    enemy_table = {}\n",
    "    enemy_table.update({x+1: y for x, y in enumerate(map(int, sys.stdin.readline().rstrip().split()))})\n",
    "    enemy_table.update({x+size+1: y for x, y in enumerate(map(int, sys.stdin.readline().rstrip().split()))})\n",
    "    cell_queue = set([x for x in range(1, size*2 + 1)])\n",
    "    uni_strategies, non_uni_strategies = get_strategies(size, w, enemy_table)\n",
    "    if not uni_strategies and not non_uni_strategies:\n",
    "        print(len(cell_queue))\n",
    "    else:\n",
    "        results = []\n",
    "        base = len(uni_strategies)\n",
    "        non_uni_queue = cell_queue.copy() - get_pool(uni_strategies)\n",
    "        if not non_uni_strategies:\n",
    "            results.append(base)\n",
    "        else:\n",
    "            for l in range(len(non_uni_strategies)):\n",
    "                strategies = non_uni_strategies[l:]+non_uni_strategies[:l]\n",
    "                res = get_results(non_uni_queue.copy(), strategies) \n",
    "                results.append(base+res)\n",
    "        print(min(results))\n",
    "        "
   ]
  },
  {
   "cell_type": "code",
   "execution_count": null,
   "metadata": {},
   "outputs": [],
   "source": [
    "6 5\n",
    "1 5 1 1 1 1\n",
    "1 1 1 1 5 1"
   ]
  },
  {
   "cell_type": "code",
   "execution_count": 11,
   "metadata": {},
   "outputs": [],
   "source": [
    "set().add(1)"
   ]
  },
  {
   "cell_type": "code",
   "execution_count": 14,
   "metadata": {},
   "outputs": [
    {
     "ename": "KeyError",
     "evalue": "{1, 2}",
     "output_type": "error",
     "traceback": [
      "\u001b[0;31m---------------------------------------------------------------------------\u001b[0m",
      "\u001b[0;31mKeyError\u001b[0m                                  Traceback (most recent call last)",
      "\u001b[0;32m<ipython-input-14-933ab0c337c6>\u001b[0m in \u001b[0;36m<module>\u001b[0;34m\u001b[0m\n\u001b[0;32m----> 1\u001b[0;31m \u001b[0mset\u001b[0m\u001b[0;34m(\u001b[0m\u001b[0;34m[\u001b[0m\u001b[0;36m1\u001b[0m\u001b[0;34m,\u001b[0m \u001b[0;36m2\u001b[0m\u001b[0;34m,\u001b[0m \u001b[0;36m3\u001b[0m\u001b[0;34m]\u001b[0m\u001b[0;34m)\u001b[0m\u001b[0;34m.\u001b[0m\u001b[0mremove\u001b[0m\u001b[0;34m(\u001b[0m\u001b[0mset\u001b[0m\u001b[0;34m(\u001b[0m\u001b[0;34m[\u001b[0m\u001b[0;36m1\u001b[0m\u001b[0;34m,\u001b[0m \u001b[0;36m2\u001b[0m\u001b[0;34m]\u001b[0m\u001b[0;34m)\u001b[0m\u001b[0;34m)\u001b[0m\u001b[0;34m\u001b[0m\u001b[0;34m\u001b[0m\u001b[0m\n\u001b[0m",
      "\u001b[0;31mKeyError\u001b[0m: {1, 2}"
     ]
    }
   ],
   "source": [
    "set([1, 2, 3]).remove(set([1, 2]))"
   ]
  },
  {
   "cell_type": "code",
   "execution_count": 16,
   "metadata": {},
   "outputs": [
    {
     "data": {
      "text/plain": [
       "3"
      ]
     },
     "execution_count": 16,
     "metadata": {},
     "output_type": "execute_result"
    }
   ],
   "source": [
    "len(set([1, 2, 3]))"
   ]
  },
  {
   "cell_type": "code",
   "execution_count": 17,
   "metadata": {},
   "outputs": [],
   "source": [
    "a = set([1, 2, 3])\n",
    "b = a.copy()"
   ]
  },
  {
   "cell_type": "code",
   "execution_count": 18,
   "metadata": {},
   "outputs": [],
   "source": [
    "b.remove(2)"
   ]
  },
  {
   "cell_type": "code",
   "execution_count": 19,
   "metadata": {},
   "outputs": [
    {
     "data": {
      "text/plain": [
       "{1, 2, 3}"
      ]
     },
     "execution_count": 19,
     "metadata": {},
     "output_type": "execute_result"
    }
   ],
   "source": [
    "a"
   ]
  },
  {
   "cell_type": "code",
   "execution_count": 37,
   "metadata": {},
   "outputs": [
    {
     "data": {
      "text/plain": [
       "1"
      ]
     },
     "execution_count": 37,
     "metadata": {},
     "output_type": "execute_result"
    }
   ],
   "source": [
    "a = [1,2,3]\n",
    "a.pop(0)"
   ]
  },
  {
   "cell_type": "code",
   "execution_count": 38,
   "metadata": {},
   "outputs": [
    {
     "data": {
      "text/plain": [
       "[2, 3]"
      ]
     },
     "execution_count": 38,
     "metadata": {},
     "output_type": "execute_result"
    }
   ],
   "source": [
    "a"
   ]
  },
  {
   "cell_type": "code",
   "execution_count": 31,
   "metadata": {},
   "outputs": [],
   "source": [
    "b = [[set([1, 2, 3]), 0], [set([2, 3, 4]), 0], [set([2, 3, 4]), 0]]"
   ]
  },
  {
   "cell_type": "code",
   "execution_count": 26,
   "metadata": {},
   "outputs": [],
   "source": [
    "a = [[{3, 4}, 98], [{4, 5}, 100], [{8, 7}, 94], [{8, 16}, 90], [{9, 10}, 98], [{10, 11}, 87], [{13, 14}, 97], [{16, 9}, 98]]"
   ]
  },
  {
   "cell_type": "code",
   "execution_count": 30,
   "metadata": {},
   "outputs": [
    {
     "name": "stdout",
     "output_type": "stream",
     "text": [
      "[{1, 2, 3}, 0]\n",
      "[{2, 3, 4}, 0]\n"
     ]
    }
   ],
   "source": [
    "for i in b:\n",
    "    print(i)"
   ]
  },
  {
   "cell_type": "code",
   "execution_count": 28,
   "metadata": {},
   "outputs": [
    {
     "name": "stdout",
     "output_type": "stream",
     "text": [
      "[{3, 4}, 98]\n",
      "[{4, 5}, 100]\n",
      "[{8, 7}, 94]\n",
      "[{8, 16}, 90]\n",
      "[{9, 10}, 98]\n",
      "[{10, 11}, 87]\n",
      "[{13, 14}, 97]\n",
      "[{16, 9}, 98]\n"
     ]
    }
   ],
   "source": [
    "for i in a:\n",
    "    print(i)"
   ]
  },
  {
   "cell_type": "code",
   "execution_count": 33,
   "metadata": {
    "scrolled": true
   },
   "outputs": [
    {
     "data": {
      "text/plain": [
       "{1, 2, 3, 4}"
      ]
     },
     "execution_count": 33,
     "metadata": {},
     "output_type": "execute_result"
    }
   ],
   "source": [
    "from functools import reduce\n",
    "reduce(lambda x, y: x | y, map(lambda x: x[0], b))"
   ]
  },
  {
   "cell_type": "code",
   "execution_count": 35,
   "metadata": {},
   "outputs": [
    {
     "name": "stdout",
     "output_type": "stream",
     "text": [
      "5\n",
      "1\n",
      "1\n",
      "6\n",
      "6\n"
     ]
    }
   ],
   "source": [
    "k = [5, 1, 1, 6, 6]\n",
    "for a  in k:\n",
    "    print(a)\n",
    "    k = [x for x in k if x <= a]"
   ]
  },
  {
   "cell_type": "markdown",
   "metadata": {},
   "source": [
    "# 1007"
   ]
  },
  {
   "cell_type": "code",
   "execution_count": 40,
   "metadata": {},
   "outputs": [
    {
     "data": {
      "text/plain": [
       "282842.71247461904"
      ]
     },
     "execution_count": 40,
     "metadata": {},
     "output_type": "execute_result"
    }
   ],
   "source": [
    "(200000 ** 2 + 200000 ** 2) ** 0.5"
   ]
  },
  {
   "cell_type": "code",
   "execution_count": null,
   "metadata": {},
   "outputs": [],
   "source": [
    "import sys\n",
    "\n",
    "def get_vectors_combination()\n",
    "\n",
    "trial = int(sys.stdin.readline().rstrip())\n",
    "for _ range(trial):\n",
    "    points_no = int(sys.stdin.readline().rstrip())\n",
    "    points = {}\n",
    "    for p in range(1, points_no+1):\n",
    "        "
   ]
  }
 ],
 "metadata": {
  "kernelspec": {
   "display_name": "Python 3",
   "language": "python",
   "name": "python3"
  },
  "language_info": {
   "codemirror_mode": {
    "name": "ipython",
    "version": 3
   },
   "file_extension": ".py",
   "mimetype": "text/x-python",
   "name": "python",
   "nbconvert_exporter": "python",
   "pygments_lexer": "ipython3",
   "version": "3.7.1"
  }
 },
 "nbformat": 4,
 "nbformat_minor": 2
}
